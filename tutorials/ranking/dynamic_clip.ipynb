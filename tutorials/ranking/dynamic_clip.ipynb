{
 "cells": [
  {
   "cell_type": "code",
   "execution_count": 1,
   "metadata": {
    "ExecuteTime": {
     "end_time": "2019-11-26T19:32:50.770141Z",
     "start_time": "2019-11-26T19:32:31.228575Z"
    },
    "scrolled": true
   },
   "outputs": [
    {
     "name": "stdout",
     "output_type": "stream",
     "text": [
      "matchzoo version 1.1\n",
      "`ranking_task` initialized with metrics [normalized_discounted_cumulative_gain@3(0.0), normalized_discounted_cumulative_gain@5(0.0), mean_average_precision(0.0)]\n",
      "data loading ...\n",
      "data loaded as `train_pack_raw` `dev_pack_raw` `test_pack_raw`\n"
     ]
    }
   ],
   "source": [
    "%run init.ipynb"
   ]
  },
  {
   "cell_type": "code",
   "execution_count": 2,
   "metadata": {
    "ExecuteTime": {
     "end_time": "2019-11-26T19:32:50.781974Z",
     "start_time": "2019-11-26T19:32:50.775679Z"
    }
   },
   "outputs": [],
   "source": [
    "preprocessor = mz.models.DynamicClip.get_default_preprocessor()"
   ]
  },
  {
   "cell_type": "code",
   "execution_count": 3,
   "metadata": {
    "ExecuteTime": {
     "end_time": "2019-11-26T19:33:26.530758Z",
     "start_time": "2019-11-26T19:32:50.789396Z"
    },
    "scrolled": true
   },
   "outputs": [
    {
     "name": "stderr",
     "output_type": "stream",
     "text": [
      "Processing text_left with chain_transform of Tokenize => Lowercase => PuncRemoval: 100%|██████████| 2118/2118 [00:00<00:00, 7900.39it/s]\n",
      "Processing text_right with chain_transform of Tokenize => Lowercase => PuncRemoval: 100%|██████████| 18841/18841 [00:03<00:00, 4748.41it/s]\n",
      "Processing text_right with append: 100%|██████████| 18841/18841 [00:00<00:00, 1042613.39it/s]\n",
      "Building FrequencyFilter from a datapack.: 100%|██████████| 18841/18841 [00:00<00:00, 176245.33it/s]\n",
      "Processing text_right with transform: 100%|██████████| 18841/18841 [00:00<00:00, 167007.37it/s]\n",
      "Processing text_left with extend: 100%|██████████| 2118/2118 [00:00<00:00, 841881.72it/s]\n",
      "Processing text_right with extend: 100%|██████████| 18841/18841 [00:00<00:00, 734828.08it/s]\n",
      "Building Vocabulary from a datapack.: 100%|██████████| 418401/418401 [00:00<00:00, 3191756.23it/s]\n",
      "Processing text_left with chain_transform of Tokenize => Lowercase => PuncRemoval: 100%|██████████| 2118/2118 [00:00<00:00, 9500.43it/s]\n",
      "Processing text_right with chain_transform of Tokenize => Lowercase => PuncRemoval: 100%|██████████| 18841/18841 [00:03<00:00, 5367.78it/s]\n",
      "Processing text_right with transform: 100%|██████████| 18841/18841 [00:00<00:00, 148143.69it/s]\n",
      "Processing text_left with transform: 100%|██████████| 2118/2118 [00:00<00:00, 260018.61it/s]\n",
      "Processing text_right with transform: 100%|██████████| 18841/18841 [00:00<00:00, 136254.73it/s]\n",
      "Processing length_left with len: 100%|██████████| 2118/2118 [00:00<00:00, 695438.85it/s]\n",
      "Processing length_right with len: 100%|██████████| 18841/18841 [00:00<00:00, 908655.75it/s]\n",
      "Processing text_left with chain_transform of Tokenize => Lowercase => PuncRemoval: 100%|██████████| 122/122 [00:00<00:00, 9425.92it/s]\n",
      "Processing text_right with chain_transform of Tokenize => Lowercase => PuncRemoval: 100%|██████████| 1115/1115 [00:00<00:00, 5645.13it/s]\n",
      "Processing text_right with transform: 100%|██████████| 1115/1115 [00:00<00:00, 148521.63it/s]\n",
      "Processing text_left with transform: 100%|██████████| 122/122 [00:00<00:00, 130971.36it/s]\n",
      "Processing text_right with transform: 100%|██████████| 1115/1115 [00:00<00:00, 132250.69it/s]\n",
      "Processing length_left with len: 100%|██████████| 122/122 [00:00<00:00, 193169.15it/s]\n",
      "Processing length_right with len: 100%|██████████| 1115/1115 [00:00<00:00, 682921.87it/s]\n",
      "Processing text_left with chain_transform of Tokenize => Lowercase => PuncRemoval: 100%|██████████| 237/237 [00:00<00:00, 10324.57it/s]\n",
      "Processing text_right with chain_transform of Tokenize => Lowercase => PuncRemoval: 100%|██████████| 2300/2300 [00:00<00:00, 5402.88it/s]\n",
      "Processing text_right with transform: 100%|██████████| 2300/2300 [00:00<00:00, 158278.22it/s]\n",
      "Processing text_left with transform: 100%|██████████| 237/237 [00:00<00:00, 187875.65it/s]\n",
      "Processing text_right with transform: 100%|██████████| 2300/2300 [00:00<00:00, 176751.12it/s]\n",
      "Processing length_left with len: 100%|██████████| 237/237 [00:00<00:00, 376534.11it/s]\n",
      "Processing length_right with len: 100%|██████████| 2300/2300 [00:00<00:00, 840981.54it/s]\n"
     ]
    }
   ],
   "source": [
    "train_pack_processed = preprocessor.fit_transform(train_pack_raw)\n",
    "dev_pack_processed = preprocessor.transform(dev_pack_raw)\n",
    "test_pack_processed = preprocessor.transform(test_pack_raw)"
   ]
  },
  {
   "cell_type": "code",
   "execution_count": 4,
   "metadata": {
    "ExecuteTime": {
     "end_time": "2019-11-26T19:33:26.575590Z",
     "start_time": "2019-11-26T19:33:26.537746Z"
    }
   },
   "outputs": [
    {
     "data": {
      "text/plain": [
       "{'filter_unit': <matchzoo.preprocessors.units.frequency_filter.FrequencyFilter at 0x7f1854467080>,\n",
       " 'vocab_unit': <matchzoo.preprocessors.units.vocabulary.Vocabulary at 0x7f1854fe1390>,\n",
       " 'vocab_size': 30058,\n",
       " 'embedding_input_dim': 30058}"
      ]
     },
     "execution_count": 4,
     "metadata": {},
     "output_type": "execute_result"
    }
   ],
   "source": [
    "preprocessor.context"
   ]
  },
  {
   "cell_type": "code",
   "execution_count": 5,
   "metadata": {
    "ExecuteTime": {
     "end_time": "2019-11-26T19:33:46.492452Z",
     "start_time": "2019-11-26T19:33:26.581940Z"
    },
    "scrolled": true
   },
   "outputs": [],
   "source": [
    "glove_embedding = mz.datasets.embeddings.load_glove_embedding(dimension=100)\n",
    "term_index = preprocessor.context['vocab_unit'].state['term_index']\n",
    "embedding_matrix = glove_embedding.build_matrix(term_index)\n",
    "l2_norm = np.sqrt((embedding_matrix * embedding_matrix).sum(axis=1))\n",
    "embedding_matrix = embedding_matrix / l2_norm[:, np.newaxis]"
   ]
  },
  {
   "cell_type": "code",
   "execution_count": 6,
   "metadata": {
    "ExecuteTime": {
     "end_time": "2019-11-26T19:34:08.181257Z",
     "start_time": "2019-11-26T19:33:46.499488Z"
    }
   },
   "outputs": [],
   "source": [
    "trainset = mz.dataloader.Dataset(\n",
    "    data_pack=train_pack_processed,\n",
    "    mode='pair',\n",
    "    num_dup=2,\n",
    "    num_neg=1\n",
    ")\n",
    "testset = mz.dataloader.Dataset(\n",
    "    data_pack=test_pack_processed\n",
    ")"
   ]
  },
  {
   "cell_type": "code",
   "execution_count": 7,
   "metadata": {
    "ExecuteTime": {
     "end_time": "2019-11-26T19:34:09.752083Z",
     "start_time": "2019-11-26T19:34:08.188249Z"
    }
   },
   "outputs": [],
   "source": [
    "padding_callback = mz.models.Dynamic_Clip.get_default_padding_callback(\n",
    "    fixed_length_left=10,\n",
    "    fixed_length_right=100,\n",
    "    pad_word_value=0,\n",
    "    pad_word_mode='pre'\n",
    ")\n",
    "\n",
    "trainloader = mz.dataloader.DataLoader(\n",
    "    dataset=trainset,\n",
    "    batch_size=20,\n",
    "    stage='train',\n",
    "    resample=True,\n",
    "    sort=False,\n",
    "    callback=padding_callback\n",
    ")\n",
    "testloader = mz.dataloader.DataLoader(\n",
    "    dataset=testset,\n",
    "    batch_size=20,\n",
    "    stage='dev',\n",
    "    callback=padding_callback\n",
    ")"
   ]
  },
  {
   "cell_type": "code",
   "execution_count": 8,
   "metadata": {
    "ExecuteTime": {
     "end_time": "2019-11-26T19:34:09.851704Z",
     "start_time": "2019-11-26T19:34:09.760063Z"
    },
    "scrolled": true
   },
   "outputs": [
    {
     "name": "stdout",
     "output_type": "stream",
     "text": [
      "Dynamic_Clip(\n",
      "  (embedding): Embedding(30058, 100, padding_idx=0)\n",
      "  (dropout): Dropout(p=0.2, inplace=False)\n",
      "  (attention): Dynamic_Clip_Attention()\n",
      "  (conv_activation): ReLU()\n",
      "  (hidden_activation): Tanh()\n",
      "  (conv1d_left): Sequential(\n",
      "    (0): ConstantPad1d(padding=(0, 2), value=0)\n",
      "    (1): Conv1d(100, 128, kernel_size=(3,), stride=(1,))\n",
      "    (2): ReLU()\n",
      "    (3): MaxPool1d(kernel_size=2, stride=2, padding=0, dilation=1, ceil_mode=False)\n",
      "  )\n",
      "  (conv1d_right): Sequential(\n",
      "    (0): ConstantPad1d(padding=(0, 2), value=0)\n",
      "    (1): Conv1d(100, 128, kernel_size=(3,), stride=(1,))\n",
      "    (2): ReLU()\n",
      "    (3): MaxPool1d(kernel_size=2, stride=2, padding=0, dilation=1, ceil_mode=False)\n",
      "  )\n",
      "  (W): Linear(in_features=7040, out_features=128, bias=True)\n",
      "  (out): Linear(in_features=128, out_features=1, bias=True)\n",
      ")\n",
      "Trainable params:  3984233\n"
     ]
    }
   ],
   "source": [
    "model = mz.models.Dynamic_Clip()\n",
    "\n",
    "model.params['task'] = ranking_task\n",
    "model.params['embedding'] = embedding_matrix\n",
    "model.params['clip_type'] = 'max'\n",
    "model.params['left_length'] = 10\n",
    "model.params['right_length'] = 100\n",
    "model.params['hidden_dim'] = 128\n",
    "model.params['kernel_size'] = 3\n",
    "model.params['pool_size'] = 2\n",
    "model.params['left_topk'] = 10\n",
    "model.params['right_topk'] = 5\n",
    "\n",
    "model.build()\n",
    "\n",
    "print(model)\n",
    "print('Trainable params: ', sum(p.numel() for p in model.parameters() if p.requires_grad))"
   ]
  },
  {
   "cell_type": "code",
   "execution_count": 9,
   "metadata": {
    "ExecuteTime": {
     "end_time": "2019-11-26T19:34:16.141246Z",
     "start_time": "2019-11-26T19:34:09.857689Z"
    }
   },
   "outputs": [],
   "source": [
    "optimizer = torch.optim.Adadelta(model.parameters())\n",
    "\n",
    "trainer = mz.trainers.Trainer(\n",
    "    model=model,\n",
    "    optimizer=optimizer,\n",
    "    trainloader=trainloader,\n",
    "    validloader=testloader,\n",
    "    validate_interval=None,\n",
    "    epochs=10\n",
    ")"
   ]
  },
  {
   "cell_type": "code",
   "execution_count": 10,
   "metadata": {
    "ExecuteTime": {
     "end_time": "2019-11-26T19:39:37.794754Z",
     "start_time": "2019-11-26T19:34:16.147613Z"
    },
    "scrolled": true
   },
   "outputs": [
    {
     "data": {
      "application/vnd.jupyter.widget-view+json": {
       "model_id": "5237414842d34ffdb228ce680243566e",
       "version_major": 2,
       "version_minor": 0
      },
      "text/plain": [
       "HBox(children=(IntProgress(value=0, max=102), HTML(value='')))"
      ]
     },
     "metadata": {},
     "output_type": "display_data"
    },
    {
     "name": "stdout",
     "output_type": "stream",
     "text": [
      "[Iter-102 Loss-0.893]:\n",
      "  Validation: normalized_discounted_cumulative_gain@3(0.0): 0.4877 - normalized_discounted_cumulative_gain@5(0.0): 0.5511 - mean_average_precision(0.0): 0.516\n",
      "\n"
     ]
    },
    {
     "data": {
      "application/vnd.jupyter.widget-view+json": {
       "model_id": "1c78a473bd3f4ff78873185d8da09d1f",
       "version_major": 2,
       "version_minor": 0
      },
      "text/plain": [
       "HBox(children=(IntProgress(value=0, max=102), HTML(value='')))"
      ]
     },
     "metadata": {},
     "output_type": "display_data"
    },
    {
     "name": "stdout",
     "output_type": "stream",
     "text": [
      "[Iter-204 Loss-0.685]:\n",
      "  Validation: normalized_discounted_cumulative_gain@3(0.0): 0.6066 - normalized_discounted_cumulative_gain@5(0.0): 0.6637 - mean_average_precision(0.0): 0.63\n",
      "\n"
     ]
    },
    {
     "data": {
      "application/vnd.jupyter.widget-view+json": {
       "model_id": "53514c66836347b2b923e52645eb9e61",
       "version_major": 2,
       "version_minor": 0
      },
      "text/plain": [
       "HBox(children=(IntProgress(value=0, max=102), HTML(value='')))"
      ]
     },
     "metadata": {},
     "output_type": "display_data"
    },
    {
     "name": "stdout",
     "output_type": "stream",
     "text": [
      "[Iter-306 Loss-0.523]:\n",
      "  Validation: normalized_discounted_cumulative_gain@3(0.0): 0.6294 - normalized_discounted_cumulative_gain@5(0.0): 0.6886 - mean_average_precision(0.0): 0.646\n",
      "\n"
     ]
    },
    {
     "data": {
      "application/vnd.jupyter.widget-view+json": {
       "model_id": "444b6e79a3f545dc953b2db6aecd621c",
       "version_major": 2,
       "version_minor": 0
      },
      "text/plain": [
       "HBox(children=(IntProgress(value=0, max=102), HTML(value='')))"
      ]
     },
     "metadata": {},
     "output_type": "display_data"
    },
    {
     "name": "stdout",
     "output_type": "stream",
     "text": [
      "[Iter-408 Loss-0.448]:\n",
      "  Validation: normalized_discounted_cumulative_gain@3(0.0): 0.6422 - normalized_discounted_cumulative_gain@5(0.0): 0.7007 - mean_average_precision(0.0): 0.661\n",
      "\n"
     ]
    },
    {
     "data": {
      "application/vnd.jupyter.widget-view+json": {
       "model_id": "1f14b8a87ced463088c8fc8a2ccac3a5",
       "version_major": 2,
       "version_minor": 0
      },
      "text/plain": [
       "HBox(children=(IntProgress(value=0, max=102), HTML(value='')))"
      ]
     },
     "metadata": {},
     "output_type": "display_data"
    },
    {
     "name": "stdout",
     "output_type": "stream",
     "text": [
      "[Iter-510 Loss-0.337]:\n",
      "  Validation: normalized_discounted_cumulative_gain@3(0.0): 0.6468 - normalized_discounted_cumulative_gain@5(0.0): 0.7048 - mean_average_precision(0.0): 0.6649\n",
      "\n"
     ]
    },
    {
     "data": {
      "application/vnd.jupyter.widget-view+json": {
       "model_id": "ce794c49c9814fa29ff482a8aeb10eec",
       "version_major": 2,
       "version_minor": 0
      },
      "text/plain": [
       "HBox(children=(IntProgress(value=0, max=102), HTML(value='')))"
      ]
     },
     "metadata": {},
     "output_type": "display_data"
    },
    {
     "name": "stdout",
     "output_type": "stream",
     "text": [
      "[Iter-612 Loss-0.287]:\n",
      "  Validation: normalized_discounted_cumulative_gain@3(0.0): 0.6832 - normalized_discounted_cumulative_gain@5(0.0): 0.731 - mean_average_precision(0.0): 0.6951\n",
      "\n"
     ]
    },
    {
     "data": {
      "application/vnd.jupyter.widget-view+json": {
       "model_id": "6ce26844bf49428f929306ce5ae9e51a",
       "version_major": 2,
       "version_minor": 0
      },
      "text/plain": [
       "HBox(children=(IntProgress(value=0, max=102), HTML(value='')))"
      ]
     },
     "metadata": {},
     "output_type": "display_data"
    },
    {
     "name": "stdout",
     "output_type": "stream",
     "text": [
      "[Iter-714 Loss-0.229]:\n",
      "  Validation: normalized_discounted_cumulative_gain@3(0.0): 0.6735 - normalized_discounted_cumulative_gain@5(0.0): 0.7272 - mean_average_precision(0.0): 0.6902\n",
      "\n"
     ]
    },
    {
     "data": {
      "application/vnd.jupyter.widget-view+json": {
       "model_id": "6801868425b649b99e7ddb3cb7f98aee",
       "version_major": 2,
       "version_minor": 0
      },
      "text/plain": [
       "HBox(children=(IntProgress(value=0, max=102), HTML(value='')))"
      ]
     },
     "metadata": {},
     "output_type": "display_data"
    },
    {
     "name": "stdout",
     "output_type": "stream",
     "text": [
      "[Iter-816 Loss-0.145]:\n",
      "  Validation: normalized_discounted_cumulative_gain@3(0.0): 0.6477 - normalized_discounted_cumulative_gain@5(0.0): 0.6956 - mean_average_precision(0.0): 0.6602\n",
      "\n"
     ]
    },
    {
     "data": {
      "application/vnd.jupyter.widget-view+json": {
       "model_id": "c382ea5d39544f8192d5446e28bcae11",
       "version_major": 2,
       "version_minor": 0
      },
      "text/plain": [
       "HBox(children=(IntProgress(value=0, max=102), HTML(value='')))"
      ]
     },
     "metadata": {},
     "output_type": "display_data"
    },
    {
     "name": "stdout",
     "output_type": "stream",
     "text": [
      "[Iter-918 Loss-0.126]:\n",
      "  Validation: normalized_discounted_cumulative_gain@3(0.0): 0.64 - normalized_discounted_cumulative_gain@5(0.0): 0.6946 - mean_average_precision(0.0): 0.6521\n",
      "\n"
     ]
    },
    {
     "data": {
      "application/vnd.jupyter.widget-view+json": {
       "model_id": "92df59318353423499e736a4220ea127",
       "version_major": 2,
       "version_minor": 0
      },
      "text/plain": [
       "HBox(children=(IntProgress(value=0, max=102), HTML(value='')))"
      ]
     },
     "metadata": {},
     "output_type": "display_data"
    },
    {
     "name": "stdout",
     "output_type": "stream",
     "text": [
      "[Iter-1020 Loss-0.105]:\n",
      "  Validation: normalized_discounted_cumulative_gain@3(0.0): 0.6608 - normalized_discounted_cumulative_gain@5(0.0): 0.7089 - mean_average_precision(0.0): 0.6703\n",
      "\n",
      "Cost time: 1008.8958778381348s\n"
     ]
    }
   ],
   "source": [
    "trainer.run()"
   ]
  },
  {
   "cell_type": "code",
   "execution_count": 11,
   "metadata": {},
   "outputs": [
    {
     "name": "stdout",
     "output_type": "stream",
     "text": [
      "Dynamic_Clip(\n",
      "  (embedding): Embedding(30058, 100, padding_idx=0)\n",
      "  (dropout): Dropout(p=0.2, inplace=False)\n",
      "  (attention): Dynamic_Clip_Attention()\n",
      "  (conv_activation): ReLU()\n",
      "  (hidden_activation): Tanh()\n",
      "  (conv1d_left): Sequential(\n",
      "    (0): ConstantPad1d(padding=(0, 2), value=0)\n",
      "    (1): Conv1d(100, 128, kernel_size=(3,), stride=(1,))\n",
      "    (2): ReLU()\n",
      "    (3): MaxPool1d(kernel_size=2, stride=2, padding=0, dilation=1, ceil_mode=False)\n",
      "  )\n",
      "  (conv1d_right): Sequential(\n",
      "    (0): ConstantPad1d(padding=(0, 2), value=0)\n",
      "    (1): Conv1d(100, 128, kernel_size=(3,), stride=(1,))\n",
      "    (2): ReLU()\n",
      "    (3): MaxPool1d(kernel_size=2, stride=2, padding=0, dilation=1, ceil_mode=False)\n",
      "  )\n",
      "  (W): Linear(in_features=7040, out_features=128, bias=True)\n",
      "  (out): Linear(in_features=128, out_features=1, bias=True)\n",
      ")\n",
      "Trainable params:  3984233\n"
     ]
    }
   ],
   "source": [
    "model = mz.models.Dynamic_Clip()\n",
    "\n",
    "model.params['task'] = ranking_task\n",
    "model.params['embedding'] = embedding_matrix\n",
    "model.params['clip_type'] = 'threshold'\n",
    "model.params['left_length'] = 10\n",
    "model.params['right_length'] = 100\n",
    "model.params['hidden_dim'] = 128\n",
    "model.params['kernel_size'] = 3\n",
    "model.params['pool_size'] = 2\n",
    "model.params['left_threshold'] = 0.08\n",
    "model.params['right_threshold'] = 0.08\n",
    "\n",
    "model.build()\n",
    "\n",
    "print(model)\n",
    "print('Trainable params: ', sum(p.numel() for p in model.parameters() if p.requires_grad))"
   ]
  },
  {
   "cell_type": "code",
   "execution_count": 12,
   "metadata": {},
   "outputs": [],
   "source": [
    "optimizer = torch.optim.Adadelta(model.parameters())\n",
    "\n",
    "trainer = mz.trainers.Trainer(\n",
    "    model=model,\n",
    "    optimizer=optimizer,\n",
    "    trainloader=trainloader,\n",
    "    validloader=testloader,\n",
    "    validate_interval=None,\n",
    "    epochs=10\n",
    ")"
   ]
  },
  {
   "cell_type": "code",
   "execution_count": 13,
   "metadata": {},
   "outputs": [
    {
     "data": {
      "application/vnd.jupyter.widget-view+json": {
       "model_id": "eac08a5a74bb4b7cbdd3f8b19ecf9041",
       "version_major": 2,
       "version_minor": 0
      },
      "text/plain": [
       "HBox(children=(IntProgress(value=0, max=102), HTML(value='')))"
      ]
     },
     "metadata": {},
     "output_type": "display_data"
    },
    {
     "name": "stdout",
     "output_type": "stream",
     "text": [
      "[Iter-102 Loss-0.882]:\n",
      "  Validation: normalized_discounted_cumulative_gain@3(0.0): 0.4665 - normalized_discounted_cumulative_gain@5(0.0): 0.5273 - mean_average_precision(0.0): 0.49\n",
      "\n"
     ]
    },
    {
     "data": {
      "application/vnd.jupyter.widget-view+json": {
       "model_id": "23a88fa2fec54c5eb5e67799af22eab2",
       "version_major": 2,
       "version_minor": 0
      },
      "text/plain": [
       "HBox(children=(IntProgress(value=0, max=102), HTML(value='')))"
      ]
     },
     "metadata": {},
     "output_type": "display_data"
    },
    {
     "name": "stdout",
     "output_type": "stream",
     "text": [
      "[Iter-204 Loss-0.688]:\n",
      "  Validation: normalized_discounted_cumulative_gain@3(0.0): 0.6077 - normalized_discounted_cumulative_gain@5(0.0): 0.6649 - mean_average_precision(0.0): 0.6251\n",
      "\n"
     ]
    },
    {
     "data": {
      "application/vnd.jupyter.widget-view+json": {
       "model_id": "cc1bbc8b2d8b4bef9b104975db08c95f",
       "version_major": 2,
       "version_minor": 0
      },
      "text/plain": [
       "HBox(children=(IntProgress(value=0, max=102), HTML(value='')))"
      ]
     },
     "metadata": {},
     "output_type": "display_data"
    },
    {
     "name": "stdout",
     "output_type": "stream",
     "text": [
      "[Iter-306 Loss-0.520]:\n",
      "  Validation: normalized_discounted_cumulative_gain@3(0.0): 0.6573 - normalized_discounted_cumulative_gain@5(0.0): 0.7066 - mean_average_precision(0.0): 0.666\n",
      "\n"
     ]
    },
    {
     "data": {
      "application/vnd.jupyter.widget-view+json": {
       "model_id": "a9bcd9d0b6bc4866821f83f89c18aa38",
       "version_major": 2,
       "version_minor": 0
      },
      "text/plain": [
       "HBox(children=(IntProgress(value=0, max=102), HTML(value='')))"
      ]
     },
     "metadata": {},
     "output_type": "display_data"
    },
    {
     "name": "stdout",
     "output_type": "stream",
     "text": [
      "[Iter-408 Loss-0.423]:\n",
      "  Validation: normalized_discounted_cumulative_gain@3(0.0): 0.6574 - normalized_discounted_cumulative_gain@5(0.0): 0.7138 - mean_average_precision(0.0): 0.6735\n",
      "\n"
     ]
    },
    {
     "data": {
      "application/vnd.jupyter.widget-view+json": {
       "model_id": "45525056b48d41b3a23da200c114aaf4",
       "version_major": 2,
       "version_minor": 0
      },
      "text/plain": [
       "HBox(children=(IntProgress(value=0, max=102), HTML(value='')))"
      ]
     },
     "metadata": {},
     "output_type": "display_data"
    },
    {
     "name": "stdout",
     "output_type": "stream",
     "text": [
      "[Iter-510 Loss-0.329]:\n",
      "  Validation: normalized_discounted_cumulative_gain@3(0.0): 0.6576 - normalized_discounted_cumulative_gain@5(0.0): 0.708 - mean_average_precision(0.0): 0.666\n",
      "\n"
     ]
    },
    {
     "data": {
      "application/vnd.jupyter.widget-view+json": {
       "model_id": "94e95015e5324c4896d85b210d5f74d5",
       "version_major": 2,
       "version_minor": 0
      },
      "text/plain": [
       "HBox(children=(IntProgress(value=0, max=102), HTML(value='')))"
      ]
     },
     "metadata": {},
     "output_type": "display_data"
    },
    {
     "name": "stdout",
     "output_type": "stream",
     "text": [
      "[Iter-612 Loss-0.258]:\n",
      "  Validation: normalized_discounted_cumulative_gain@3(0.0): 0.6711 - normalized_discounted_cumulative_gain@5(0.0): 0.713 - mean_average_precision(0.0): 0.6673\n",
      "\n"
     ]
    },
    {
     "data": {
      "application/vnd.jupyter.widget-view+json": {
       "model_id": "86a5c7bd2749455baf143974ba799611",
       "version_major": 2,
       "version_minor": 0
      },
      "text/plain": [
       "HBox(children=(IntProgress(value=0, max=102), HTML(value='')))"
      ]
     },
     "metadata": {},
     "output_type": "display_data"
    },
    {
     "name": "stdout",
     "output_type": "stream",
     "text": [
      "[Iter-714 Loss-0.169]:\n",
      "  Validation: normalized_discounted_cumulative_gain@3(0.0): 0.661 - normalized_discounted_cumulative_gain@5(0.0): 0.7066 - mean_average_precision(0.0): 0.6641\n",
      "\n"
     ]
    },
    {
     "data": {
      "application/vnd.jupyter.widget-view+json": {
       "model_id": "c60d6ac546824fab89c33c34c159e38c",
       "version_major": 2,
       "version_minor": 0
      },
      "text/plain": [
       "HBox(children=(IntProgress(value=0, max=102), HTML(value='')))"
      ]
     },
     "metadata": {},
     "output_type": "display_data"
    },
    {
     "name": "stdout",
     "output_type": "stream",
     "text": [
      "[Iter-816 Loss-0.156]:\n",
      "  Validation: normalized_discounted_cumulative_gain@3(0.0): 0.672 - normalized_discounted_cumulative_gain@5(0.0): 0.7253 - mean_average_precision(0.0): 0.6795\n",
      "\n"
     ]
    },
    {
     "data": {
      "application/vnd.jupyter.widget-view+json": {
       "model_id": "ddb295bc7d4941d2a0eef25793bf5e15",
       "version_major": 2,
       "version_minor": 0
      },
      "text/plain": [
       "HBox(children=(IntProgress(value=0, max=102), HTML(value='')))"
      ]
     },
     "metadata": {},
     "output_type": "display_data"
    },
    {
     "name": "stdout",
     "output_type": "stream",
     "text": [
      "[Iter-918 Loss-0.120]:\n",
      "  Validation: normalized_discounted_cumulative_gain@3(0.0): 0.6691 - normalized_discounted_cumulative_gain@5(0.0): 0.7161 - mean_average_precision(0.0): 0.6743\n",
      "\n"
     ]
    },
    {
     "data": {
      "application/vnd.jupyter.widget-view+json": {
       "model_id": "0a6cff274e3d460bb7022b71b4bac352",
       "version_major": 2,
       "version_minor": 0
      },
      "text/plain": [
       "HBox(children=(IntProgress(value=0, max=102), HTML(value='')))"
      ]
     },
     "metadata": {},
     "output_type": "display_data"
    },
    {
     "name": "stdout",
     "output_type": "stream",
     "text": [
      "[Iter-1020 Loss-0.080]:\n",
      "  Validation: normalized_discounted_cumulative_gain@3(0.0): 0.6766 - normalized_discounted_cumulative_gain@5(0.0): 0.7328 - mean_average_precision(0.0): 0.6862\n",
      "\n",
      "Cost time: 1008.7656784057617s\n"
     ]
    }
   ],
   "source": [
    "trainer.run()"
   ]
  }
 ],
 "metadata": {
  "file_extension": ".py",
  "kernelspec": {
   "display_name": "Python 3",
   "language": "python",
   "name": "python3"
  },
  "language_info": {
   "codemirror_mode": {
    "name": "ipython",
    "version": 3
   },
   "file_extension": ".py",
   "mimetype": "text/x-python",
   "name": "python",
   "nbconvert_exporter": "python",
   "pygments_lexer": "ipython3",
   "version": "3.7.3"
  },
  "mimetype": "text/x-python",
  "name": "python",
  "npconvert_exporter": "python",
  "pygments_lexer": "ipython3",
  "version": 3
 },
 "nbformat": 4,
 "nbformat_minor": 2
}